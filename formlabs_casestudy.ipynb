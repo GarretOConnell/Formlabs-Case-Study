{
 "cells": [
  {
   "cell_type": "markdown",
   "metadata": {},
   "source": [
    "### Formlabs Case Study\n",
    "Author: Garret O'Connell\n",
    "\n",
    "### The Data Set\n",
    "Description: Data exported from Salesforce attached. This is a simplified version of what you would encounter as a Sales Operations Analyst at Formlabs. \n",
    "\n",
    "Variables: \n",
    "* Lead ID # ID code for prospective clients (type: categorical)\n",
    "* Lead Owner # ID code for superordinate lead groupings (type: categorical)\n",
    "* Team # ID code for subordinate lead groupings (type: categorical)\n",
    "* Oldest Campaign # specific goal for lead (type: categorical)\n",
    "* Converted # conversion (success) status for lead (type: binary)\n",
    "* Time to lead conversion # duration of campaign (sorted descending) (type: ordinal)\n",
    "* Industry # industry sector (type: categorical) \n",
    "* N of employee (type: numerical)\n",
    "* Country (type: categorical) \n",
    "\n",
    "### Task\n",
    "To place the data in context by identifying characteristics/trends with summary visualizations and reports.\n",
    "\n",
    "### Approach\n",
    "I chose to investigate which of the above variables contribute most to conversion rates to focus sales strategies . To identify these factors I fitted a Random Forests machine learning algorithm which performs well on categorical data such as these (for a basic overview of this algorithm see: https://towardsdatascience.com/the-random-forest-algorithm-d457d499ffcd). From this model I identified variables that most strongly predicted conversion, and plotted the relationship between these variables and conversion rates to visualize precisely how this occurs. \n",
    "\n",
    "### Steps\n",
    "\n",
    "Below are outline for each step taken in analysis:\n",
    "1. Data importing/cleaning: data was imported to a data table for analysis, and variables were coded appropriately.\n",
    "\n",
    "\n",
    "2. Data summary: basic summary statistics were calculated for all variables to characterise the data set.\n",
    "\n",
    "\n",
    "3. Model fitting: data were structured appropriately for training the Random Forests Classifier.\n",
    "\n",
    "\n",
    "4. Identify variables predicting conversion: rank variables in their ability to predict conversions.\n",
    "\n",
    "\n",
    "5. Visualize patterns: Use graphs and figures to characterise the precise relationship between the identified variables above and conversion rates."
   ]
  },
  {
   "cell_type": "markdown",
   "metadata": {},
   "source": [
    "### 1. Data importing/cleaning\n",
    "\n",
    "The missing values for \"Time to Lead Conversion\" and \"No. of Employees\" variables need to be recoded from \"-\" to NaN for analysis. Also commas need to be removed from \"No. of Employees\" numbers."
   ]
  },
  {
   "cell_type": "code",
   "execution_count": 1,
   "metadata": {},
   "outputs": [],
   "source": [
    " # set paths\n",
    "import os\n",
    "import pandas as pd\n",
    "import numpy as np\n",
    "import seaborn as sns\n",
    "\n",
    "# import data\n",
    "path = os.getcwd()\n",
    "df = pd.read_csv(os.path.join(path,'Case_for_Sales Operations Analyst.csv'), sep = ';')"
   ]
  },
  {
   "cell_type": "code",
   "execution_count": 2,
   "metadata": {},
   "outputs": [],
   "source": [
    "df['Time to Lead ConversionSorted Descending'] = df['Time to Lead ConversionSorted Descending'].replace('-', np.NaN);\n",
    "df['No. of Employees'] = df['No. of Employees'].replace('-', np.NaN);\n",
    "df['No. of Employees'] = df['No. of Employees'].str.replace(',', '').astype(float);\n",
    "df = df.drop(['Lead ID'],axis=1) # all IDs are unique so this variable is uninformative"
   ]
  },
  {
   "cell_type": "markdown",
   "metadata": {},
   "source": [
    "### 2. Basic data summary"
   ]
  },
  {
   "cell_type": "code",
   "execution_count": 3,
   "metadata": {},
   "outputs": [
    {
     "name": "stdout",
     "output_type": "stream",
     "text": [
      "Number of total entries : 155\n",
      "Number of unique Lead Owner : 10\n",
      "Number of unique Team : 2\n",
      "Number of unique Oldest Campaign : 6\n",
      "Number of unique Industry : 5\n",
      "Number of unique Country : 3\n",
      "Percentage of conversions : 36.13\n",
      "Mean no. of employees : 213\n"
     ]
    }
   ],
   "source": [
    "print('Number of total entries :',df.shape[0])\n",
    "print('Number of unique Lead Owner :',df['Lead Owner'].unique().shape[0])\n",
    "print('Number of unique Team :',df['Team'].unique().shape[0])\n",
    "print('Number of unique Oldest Campaign :',df['Oldest Campaign'].unique().shape[0])\n",
    "print('Number of unique Industry :',df['Industry'].unique().shape[0])\n",
    "print('Number of unique Country :',df['Country'].unique().shape[0])\n",
    "print('Percentage of conversions :',round((100*df['Converted'].sum()/df['Converted'].shape[0]),2))\n",
    "print('Mean no. of employees :',round(df['No. of Employees'].mean()))"
   ]
  },
  {
   "cell_type": "markdown",
   "metadata": {},
   "source": [
    "### Remark\n",
    "\n",
    "These descriptive summaries of the data are useful for guiding analyses. For example, the data set is relatively small, and contains mainly categorical data with few levels. A Random Forests Classifier (or Logistic Regression) would be my first choices for a data set of this type."
   ]
  },
  {
   "cell_type": "markdown",
   "metadata": {},
   "source": [
    "### 3. Model fitting"
   ]
  },
  {
   "cell_type": "code",
   "execution_count": 4,
   "metadata": {},
   "outputs": [],
   "source": [
    "# convert to categorical\n",
    "for col in ['Lead Owner', 'Team', 'Oldest Campaign', 'Industry','Country']:\n",
    "    df[col] = df[col].astype('category')"
   ]
  },
  {
   "cell_type": "code",
   "execution_count": 5,
   "metadata": {},
   "outputs": [],
   "source": [
    "# drop columns \n",
    "df = df.drop([\"Time to Lead ConversionSorted Descending\"], axis = 1)\n",
    "df.dropna(inplace=True)\n",
    "\n",
    "# extract labels and features\n",
    "df_labels = df['Converted']\n",
    "df_features = df.drop([\"Converted\"], axis = 1)\n",
    "\n",
    "# record labels for decode after classification\n",
    "cat_columns = ['Lead Owner', 'Team', 'Oldest Campaign', 'Industry','Country']\n",
    "label_list = []\n",
    "\n",
    "for column in cat_columns:\n",
    "    label_list.append(dict( enumerate(df_features[column].cat.categories) ))\n",
    "    df_features[column] = df_features[column].astype('category').cat.codes"
   ]
  },
  {
   "cell_type": "code",
   "execution_count": 6,
   "metadata": {},
   "outputs": [],
   "source": [
    "# Using Skicit-learn to split data into training and testing sets\n",
    "from sklearn.model_selection import train_test_split\n",
    "\n",
    "# split train and test\n",
    "X_train, X_test, y_train, y_test = train_test_split(df_features, df_labels, random_state=0,test_size=0.2)"
   ]
  },
  {
   "cell_type": "code",
   "execution_count": 8,
   "metadata": {},
   "outputs": [],
   "source": [
    "from sklearn.ensemble import RandomForestClassifier as RF\n",
    "from sklearn.metrics import accuracy_score\n",
    "\n",
    "# RF\n",
    "clf_rf = RF(n_estimators=50)\n",
    "clf_rf.fit(X_train, y_train)\n",
    "y_predict_rf = clf_rf.predict(X_test)\n",
    "score_rf = accuracy_score(y_test, y_predict_rf)"
   ]
  },
  {
   "cell_type": "markdown",
   "metadata": {},
   "source": [
    "#### Model accuracy"
   ]
  },
  {
   "cell_type": "code",
   "execution_count": 9,
   "metadata": {},
   "outputs": [
    {
     "name": "stdout",
     "output_type": "stream",
     "text": [
      "Random Forest prediction accuracy:\n",
      "73.3 %\n"
     ]
    }
   ],
   "source": [
    "print(\"Random Forest prediction accuracy:\")\n",
    "print(\"%.1f\" % (100*score_rf),'%')"
   ]
  },
  {
   "cell_type": "markdown",
   "metadata": {},
   "source": [
    "### Remark\n",
    "The model performed reasonably well with 73.3% accuracy in predicting conversion (over twice that of chance levels of 36.1%). This suggests that information in certain variables was able to predict conversion. Which variables contain this information is indicated by the model's estimated \"feature importance\"."
   ]
  },
  {
   "cell_type": "markdown",
   "metadata": {},
   "source": [
    "### 4. Identify variables predicting conversion:"
   ]
  },
  {
   "cell_type": "code",
   "execution_count": 10,
   "metadata": {},
   "outputs": [
    {
     "name": "stdout",
     "output_type": "stream",
     "text": [
      "Features ranked:\n",
      "                  importance\n",
      "No. of Employees    0.302895\n",
      "Lead Owner          0.208015\n",
      "Industry            0.181755\n",
      "Oldest Campaign     0.147930\n",
      "Country             0.120743\n",
      "Team                0.038662\n"
     ]
    }
   ],
   "source": [
    "feature_importances = pd.DataFrame(clf_rf.feature_importances_,\n",
    "                                   index = X_train.columns,\n",
    "                                    columns=['importance']).sort_values('importance',ascending=False)\n",
    "print(\"Features ranked:\")\n",
    "print(feature_importances)"
   ]
  },
  {
   "cell_type": "markdown",
   "metadata": {},
   "source": [
    "### Remark\n",
    "The two variables that explained a considerable amount of variability in conversion are \"No. of Employees\" and \"Lead Owner\", which I will investigate further with visualizations of their relationship with conversion rates."
   ]
  },
  {
   "cell_type": "markdown",
   "metadata": {},
   "source": [
    "### 5. Visualize patterns\n",
    "\n",
    "### a) No. of Employees\n",
    "No. of employees is a continuous variable and I will therefore visualise its relationship with conversion rates using a scatter plot. I visualized this relationship both in terms of percentage of conversions (rate of conversions relative to attempted conversions), and in terms of the absolute number of conversions. This addresses both rate of success of conversions and overall conversions as a function of no. of employees.\n",
    "\n",
    "Note: From the average values of conversion rates at each group of employee numbers, there appears to be a non-linear relationship with conversion rates, so visualized this relationship by fitting a curved regression line that aims to fit as close as possible to the data points."
   ]
  },
  {
   "cell_type": "code",
   "execution_count": 11,
   "metadata": {},
   "outputs": [],
   "source": [
    "# groupby and sum converted\n",
    "df_noemp = df.groupby(['No. of Employees','Converted'], sort=False, as_index=False)[\"Converted\"].size().reset_index(name='Total')\n",
    "df_noemp_pivot = df_noemp.pivot('No. of Employees','Converted').fillna(0).reset_index()\n",
    "df_noemp_pivot[\"percentage conversions\"] = df_noemp_pivot[\"Total\"][1]/(df_noemp_pivot[\"Total\"][0]+df_noemp_pivot[\"Total\"][1])\n",
    "df_noemp_pivot[\"total conversions\"] = df_noemp_pivot[\"Total\"][1]"
   ]
  },
  {
   "cell_type": "code",
   "execution_count": 12,
   "metadata": {},
   "outputs": [
    {
     "data": {
      "image/png": "[encoded data removed]",
      "text/plain": [
       "<Figure size 432x288 with 1 Axes>"
      ]
     },
     "metadata": {},
     "output_type": "display_data"
    }
   ],
   "source": [
    "# plot curve\n",
    "ax = sns.regplot(x=\"No. of Employees\", y=\"percentage conversions\", data=df_noemp_pivot, scatter_kws={\"s\": 80}, order=3, ci=None, truncate=True)"
   ]
  },
  {
   "cell_type": "markdown",
   "metadata": {},
   "source": [
    "### Remark\n",
    "For the line relating percentage of conversions to no. of employees, there does not appear to be any clear benefit of higher numbers of employees on percentage of conversions. In fact the data indicate ranges of relatively fewer employees (between 25 and 75) can yield higher conversion rates than those with more employees (> 1000). "
   ]
  },
  {
   "cell_type": "code",
   "execution_count": 13,
   "metadata": {},
   "outputs": [
    {
     "data": {
      "image/png": "[encoded data removed]",
      "text/plain": [
       "<Figure size 432x288 with 1 Axes>"
      ]
     },
     "metadata": {},
     "output_type": "display_data"
    }
   ],
   "source": [
    "# plot curve\n",
    "ax = sns.regplot(x=\"No. of Employees\", y=\"total conversions\", data=df_noemp_pivot, scatter_kws={\"s\": 80}, order=3, ci=None, truncate=True)"
   ]
  },
  {
   "cell_type": "markdown",
   "metadata": {},
   "source": [
    "### Remark\n",
    "Similar to above the line relating total conversions to no. of employees indicated no clear benefit of higher numbers of employees on the total number of conversions. Given these observations, I would make the strong recommendation to maximize resources by maintaining no. of employees in smaller ranges."
   ]
  },
  {
   "cell_type": "markdown",
   "metadata": {},
   "source": [
    "### b) Lead Owner\n",
    "Lead owner is a categorical variable so I visualise its relationship with conversion rates using bar charts of the frequency of conversions for each leader. I use stacked bar charts to include information about not only overall frequency of conversions, but the relative number of conversions compared to attempted conversions (i.e. the ratio of successful to failed conversions). Hence, the recommendation from this analysis would be to maximize resources by "
   ]
  },
  {
   "cell_type": "code",
   "execution_count": null,
   "metadata": {},
   "outputs": [],
   "source": [
    "# plot conversion rates of individual Lead Owners\n",
    "df_grp_leadowner = df.groupby(['Lead Owner','Converted'], sort=False, as_index=False)[\"Converted\"].size().reset_index(name='Total')\n",
    "df_pivoted = df_grp_leadowner.pivot('Lead Owner', 'Converted').fillna(0)\n",
    "df_pivoted = df_pivoted.reset_index(0).reset_index(drop=True)\n",
    "df_pivoted[\"Total\",0] = df_pivoted.sum(1)"
   ]
  },
  {
   "cell_type": "code",
   "execution_count": null,
   "metadata": {},
   "outputs": [],
   "source": [
    "import seaborn as sns\n",
    "import matplotlib.pyplot as plt\n",
    "%matplotlib inline  \n",
    "\n",
    "# plot style\n",
    "sns.set(style=\"whitegrid\")\n",
    "sns.set(font_scale=1.5)\n",
    "\n",
    "# Initialize the matplotlib figure\n",
    "f, ax = plt.subplots(figsize=(10, 12))\n",
    "\n",
    "# Plot the total crashes\n",
    "sns.set_color_codes(\"pastel\")\n",
    "sns.barplot(x=df_pivoted[\"Total\"][0], y=df_pivoted[\"Lead Owner\"],\n",
    "            label=\"Unconverted\", color=\"b\")\n",
    "\n",
    "# Plot the crashes where alcohol was involved\n",
    "sns.set_color_codes(\"muted\")\n",
    "sns.barplot(x=df_pivoted[\"Total\",1], y=df_pivoted[\"Lead Owner\"],\n",
    "            label=\"Converted\", color=\"b\");\n",
    "\n",
    "# Add a legend and informative axis label\n",
    "ax.legend(ncol=2, loc=\"lower right\", frameon=True)\n",
    "ax.set(xlim=(0, (df_pivoted.Total.max().max())+2), ylabel=\"\",\n",
    "       xlabel=\"Conversion rates in Teams\")\n",
    "sns.despine(left=True, bottom=True)\n",
    "\n",
    "count = -1\n",
    "converted = df_pivoted['Total'].as_matrix()\n",
    "converted[:,0] = converted[:,0] - converted[:,1]\n",
    "\n",
    "def annotateBars(row, ax=ax): \n",
    "       for counter,p in enumerate(ax.patches):  \n",
    "             ax.annotate(\"%d\" % converted.flatten(1)[counter], ((p.get_x() + p.get_width()-.5), p.get_y()+p.get_height()*.75),\n",
    "                 ha='center', va='center', fontsize=15, color='white', rotation=90, xytext=(0, 20),\n",
    "                 textcoords='offset points')  \n",
    "\n",
    "plot = df_pivoted.apply(annotateBars, ax=ax, axis=0);"
   ]
  },
  {
   "cell_type": "markdown",
   "metadata": {},
   "source": [
    "### Remark\n",
    "Lead owner \"ER\" appears to be contributing disproportionately to lowering the rate of conversions. The underlying causes should be investigated to determine how to improve the conversion success of \"ER\". Sinice \"ER\" also has the highest number of conversion attempts, so efforts to improve their rates would yield substantial increases in overall conversions. Resources should therefore be allocated accordingly (e.g. distributing ER's workload, addressing areas of weakness leading to failed conversions). "
   ]
  }
 ],
 "metadata": {
  "kernelspec": {
   "display_name": "Python 3",
   "language": "python",
   "name": "python3"
  },
  "language_info": {
   "codemirror_mode": {
    "name": "ipython",
    "version": 3
   },
   "file_extension": ".py",
   "mimetype": "text/x-python",
   "name": "python",
   "nbconvert_exporter": "python",
   "pygments_lexer": "ipython3",
   "version": "3.6.6"
  }
 },
 "nbformat": 4,
 "nbformat_minor": 2
}
