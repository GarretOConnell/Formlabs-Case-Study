{
 "cells": [
  {
   "cell_type": "markdown",
   "metadata": {},
   "source": [
    "### Formlabs Case Study\n",
    "Author: Garret O'Connell\n",
    "\n",
    "### The Data Set\n",
    "Description: Data exported from Salesforce attached. This is a simplified version of what you would encounter as a Sales Operations Analyst at Formlabs. \n",
    "\n",
    "Variables: \n",
    "* Lead ID # ID code for prospective clients (type: categorical)\n",
    "* Lead Owner # ID code for superordinate lead groupings (type: categorical)\n",
    "* Team # ID code for subordinate lead groupings (type: categorical)\n",
    "* Oldest Campaign # specific goal for lead (type: categorical)\n",
    "* Converted # conversion (success) status for lead (type: binary)\n",
    "* Time to lead conversion # duration of campaign (sorted descending) (type: ordinal)\n",
    "* Industry # industry sector (type: categorical) \n",
    "* N of employee (type: numerical)\n",
    "* Country (type: categorical) \n",
    "\n",
    "### Task\n",
    "To place the data in context by identifying characteristics/trends with summary visualizations and reports.\n",
    "\n",
    "### Approach\n",
    "I chose to investigate which of the above variables contribute most to conversion rates to focus sales strategies . To identify these factors I fitted a Random Forests machine learning algorithm which performs well on categorical data such as these. From this model I identified variables that most strongly predicted conversion, and plotted the relationship between these variables and conversion rates to visualize precisely how this occurs. \n",
    "\n",
    "\n",
    "### Data cleaning"
   ]
  },
  {
   "cell_type": "markdown",
   "metadata": {},
   "source": [
    "#### Import data"
   ]
  },
  {
   "cell_type": "code",
   "execution_count": 85,
   "metadata": {
    "collapsed": true
   },
   "outputs": [],
   "source": [
    " # set paths\n",
    "import os\n",
    "import pandas as pd\n",
    "import numpy as np\n",
    "\n",
    "# import data\n",
    "path = os.getcwd()\n",
    "#df = pd.read_csv(os.path.join(path,'Case_for_Sales Operations Analyst.csv'), index_col = False) \n",
    "df = pd.read_csv(os.path.join(path,'Case_for_Sales Operations Analyst.csv'), sep = ';')"
   ]
  },
  {
   "cell_type": "markdown",
   "metadata": {},
   "source": [
    "The missing values for \"Time to Lead Conversion\" and \"No. of Employees\" variables need to be recoded from \"-\" to NaN for analysis. Also commas need to be removed from \"No. of Employees\" numbers."
   ]
  },
  {
   "cell_type": "code",
   "execution_count": 86,
   "metadata": {},
   "outputs": [],
   "source": [
    "df['Time to Lead ConversionSorted Descending'] = df['Time to Lead ConversionSorted Descending'].replace('-', np.NaN);\n",
    "df['No. of Employees'] = df['No. of Employees'].replace('-', np.NaN);\n",
    "df['No. of Employees'] = df['No. of Employees'].str.replace(',', '').astype(float);\n",
    "df = df.drop(['Lead ID'],axis=1) # all IDs are unique so this variable is uninformative"
   ]
  },
  {
   "cell_type": "markdown",
   "metadata": {},
   "source": [
    "#### Basic data summary\n",
    "\n",
    "For guiding analysis I need to know certain characteristics of the data, e.g. the number of unique levels in categorical variables, the means and percentages of numerical variables."
   ]
  },
  {
   "cell_type": "code",
   "execution_count": 154,
   "metadata": {},
   "outputs": [
    {
     "name": "stdout",
     "output_type": "stream",
     "text": [
      "Number of total entries : 146\n",
      "Number of unique Lead Owner : 10\n",
      "Number of unique Team : 2\n",
      "Number of unique Oldest Campaign : 4\n",
      "Number of unique Industry : 5\n",
      "Number of unique Country : 3\n",
      "Percentage of conversions : 36.99\n",
      "Mean no. of employees : 213\n"
     ]
    }
   ],
   "source": [
    "print('Number of total entries :',df.shape[0])\n",
    "print('Number of unique Lead Owner :',df['Lead Owner'].unique().shape[0])\n",
    "print('Number of unique Team :',df['Team'].unique().shape[0])\n",
    "print('Number of unique Oldest Campaign :',df['Oldest Campaign'].unique().shape[0])\n",
    "print('Number of unique Industry :',df['Industry'].unique().shape[0])\n",
    "print('Number of unique Country :',df['Country'].unique().shape[0])\n",
    "print('Percentage of conversions :',round((100*df['Converted'].sum()/df['Converted'].shape[0]),2))\n",
    "print('Mean no. of employees :',round(df['No. of Employees'].mean()))"
   ]
  },
  {
   "cell_type": "markdown",
   "metadata": {},
   "source": [
    "### Which variables predict conversion?"
   ]
  },
  {
   "cell_type": "markdown",
   "metadata": {},
   "source": [
    "#### Fit Random Forests model"
   ]
  },
  {
   "cell_type": "code",
   "execution_count": 91,
   "metadata": {},
   "outputs": [],
   "source": [
    "# convert to categorical\n",
    "for col in ['Lead Owner', 'Team', 'Oldest Campaign', 'Industry','Country']:\n",
    "    df[col] = df[col].astype('category')"
   ]
  },
  {
   "cell_type": "code",
   "execution_count": 92,
   "metadata": {},
   "outputs": [],
   "source": [
    "# drop columns \n",
    "df = df.drop([\"Time to Lead ConversionSorted Descending\"], axis = 1)\n",
    "df.dropna(inplace=True)\n",
    "\n",
    "# extract labels and features\n",
    "df_labels = df['Converted']\n",
    "df_features = df.drop([\"Converted\"], axis = 1)\n",
    "\n",
    "# record labels for decode after classification\n",
    "cat_columns = ['Lead Owner', 'Team', 'Oldest Campaign', 'Industry','Country']\n",
    "label_list = []\n",
    "\n",
    "for column in cat_columns:\n",
    "    label_list.append(dict( enumerate(df_features[column].cat.categories) ))\n",
    "    df_features[column] = df_features[column].astype('category').cat.codes"
   ]
  },
  {
   "cell_type": "code",
   "execution_count": 93,
   "metadata": {
    "collapsed": true
   },
   "outputs": [],
   "source": [
    "# Using Skicit-learn to split data into training and testing sets\n",
    "from sklearn.model_selection import train_test_split\n",
    "\n",
    "# split train and test\n",
    "X_train, X_test, y_train, y_test = train_test_split(df_features, df_labels, random_state=0,test_size=0.2)"
   ]
  },
  {
   "cell_type": "code",
   "execution_count": 94,
   "metadata": {
    "collapsed": true
   },
   "outputs": [],
   "source": [
    "from sklearn.ensemble import RandomForestClassifier as RF\n",
    "from sklearn.metrics import accuracy_score\n",
    "\n",
    "# RF\n",
    "clf_rf = RF(n_estimators=50)\n",
    "clf_rf.fit(X_train, y_train)\n",
    "y_predict_rf = clf_rf.predict(X_test)\n",
    "score_rf = accuracy_score(y_test, y_predict_rf)"
   ]
  },
  {
   "cell_type": "markdown",
   "metadata": {},
   "source": [
    "#### Model accuracy"
   ]
  },
  {
   "cell_type": "code",
   "execution_count": 163,
   "metadata": {},
   "outputs": [
    {
     "name": "stdout",
     "output_type": "stream",
     "text": [
      "Random Forest prediction accuracy:\n",
      "73.3 %\n"
     ]
    }
   ],
   "source": [
    "print(\"Random Forest prediction accuracy:\")\n",
    "print(\"%.1f\" % (100*score_rf),'%')"
   ]
  },
  {
   "cell_type": "markdown",
   "metadata": {},
   "source": [
    "### Remark\n",
    "The model performed reasonably well with 73% accuracy compared to chance level of 50%. This suggests that information in certain variables was able to predict conversion. Which variables contain this information is indicated by the model's estimated \"feature importance\"."
   ]
  },
  {
   "cell_type": "code",
   "execution_count": 96,
   "metadata": {},
   "outputs": [
    {
     "name": "stdout",
     "output_type": "stream",
     "text": [
      "Features ranked:\n",
      "                  importance\n",
      "No. of Employees    0.288354\n",
      "Lead Owner          0.232474\n",
      "Industry            0.183588\n",
      "Oldest Campaign     0.145023\n",
      "Country             0.106230\n",
      "Team                0.044333\n"
     ]
    }
   ],
   "source": [
    "feature_importances = pd.DataFrame(clf_rf.feature_importances_,\n",
    "                                   index = X_train.columns,\n",
    "                                    columns=['importance']).sort_values('importance',ascending=False)\n",
    "print(\"Features ranked:\")\n",
    "print(feature_importances)"
   ]
  },
  {
   "cell_type": "markdown",
   "metadata": {},
   "source": [
    "### Remark\n",
    "The 2 variables that explain a considerable amount of variability in conversion are \"No. of Employees\" and \"Lead Owner\", which I will investigate further with visualizations of their relationship with conversion rates."
   ]
  },
  {
   "cell_type": "markdown",
   "metadata": {},
   "source": [
    "### What is the relationship between variables and conversion?\n",
    "#### No. of Employees\n",
    "From eye-balling the data the no. of employees appears to have a non-linear relationship with conversion rates, so I will visualize this by fitting a curved line that aims to fit as close as possible to the data points"
   ]
  },
  {
   "cell_type": "code",
   "execution_count": 110,
   "metadata": {},
   "outputs": [],
   "source": [
    "# groupby and sum converted\n",
    "df_noemp = df.groupby(['No. of Employees','Converted'], sort=False, as_index=False)[\"Converted\"].size().reset_index(name='Total')\n",
    "df_noemp_pivot = df_noemp.pivot('No. of Employees','Converted').fillna(0).reset_index()\n",
    "df_noemp_pivot[\"pc\"] = df_noemp_pivot[\"Total\"][1]/(df_noemp_pivot[\"Total\"][0]+df_noemp_pivot[\"Total\"][1])"
   ]
  },
  {
   "cell_type": "code",
   "execution_count": 149,
   "metadata": {},
   "outputs": [
    {
     "data": {
      "image/png": "[encoded data removed]",
      "text/plain": [
       "<Figure size 432x288 with 1 Axes>"
      ]
     },
     "metadata": {},
     "output_type": "display_data"
    }
   ],
   "source": [
    "# plot curve\n",
    "ax = sns.regplot(x=\"No. of Employees\", y=\"pc\", data=df_noemp_pivot,\n",
    "...                  scatter_kws={\"s\": 80},\n",
    "...                  order=3, ci=None, truncate=True)"
   ]
  },
  {
   "cell_type": "markdown",
   "metadata": {},
   "source": [
    "### Remark\n",
    "There does not appear to be any benefit of higher numbers of employees on conversion rates, and in fact the data indicate fewer employees (between 25 and 75) can yield higher conversion rates. "
   ]
  },
  {
   "cell_type": "markdown",
   "metadata": {},
   "source": [
    "### Lead Owner\n",
    "There does not appear to be any benefit of higher numbers of employees on conversion rates, and in fact the data indicate fewer employees (between 25 and 75) can yield higher conversion rates. "
   ]
  },
  {
   "cell_type": "code",
   "execution_count": 150,
   "metadata": {
    "collapsed": true
   },
   "outputs": [],
   "source": [
    "# plot conversion rates of individual Lead Owners\n",
    "df_grp_leadowner = df.groupby(['Lead Owner','Converted'], sort=False, as_index=False)[\"Converted\"].size().reset_index(name='Total')\n",
    "df_pivoted = df_grp_leadowner.pivot('Lead Owner', 'Converted').fillna(0)\n",
    "df_pivoted = df_pivoted.reset_index(0).reset_index(drop=True)\n",
    "df_pivoted[\"Total\",0] = df_pivoted.sum(1)"
   ]
  },
  {
   "cell_type": "code",
   "execution_count": 166,
   "metadata": {},
   "outputs": [
    {
     "name": "stderr",
     "output_type": "stream",
     "text": [
      "/Users/goconnell/anaconda3/lib/python3.6/site-packages/ipykernel_launcher.py:34: DeprecationWarning: Non-string object detected for the array ordering. Please pass in 'C', 'F', 'A', or 'K' instead\n"
     ]
    },
    {
     "data": {
      "image/png": "[encoded data removed]",
      "text/plain": [
       "<Figure size 720x864 with 1 Axes>"
      ]
     },
     "metadata": {},
     "output_type": "display_data"
    }
   ],
   "source": [
    "import seaborn as sns\n",
    "import matplotlib.pyplot as plt\n",
    "%matplotlib inline  \n",
    "\n",
    "# plot style\n",
    "sns.set(style=\"whitegrid\")\n",
    "sns.set(font_scale=1.5)\n",
    "\n",
    "# Initialize the matplotlib figure\n",
    "f, ax = plt.subplots(figsize=(10, 12))\n",
    "\n",
    "# Plot the total crashes\n",
    "sns.set_color_codes(\"pastel\")\n",
    "sns.barplot(x=df_pivoted[\"Total\"][0], y=df_pivoted[\"Lead Owner\"],\n",
    "            label=\"Unconverted\", color=\"b\")\n",
    "\n",
    "# Plot the crashes where alcohol was involved\n",
    "sns.set_color_codes(\"muted\")\n",
    "sns.barplot(x=df_pivoted[\"Total\",1], y=df_pivoted[\"Lead Owner\"],\n",
    "            label=\"Converted\", color=\"b\");\n",
    "\n",
    "# Add a legend and informative axis label\n",
    "ax.legend(ncol=2, loc=\"lower right\", frameon=True)\n",
    "ax.set(xlim=(0, (df_pivoted.Total.max().max())+2), ylabel=\"\",\n",
    "       xlabel=\"Conversion rates in Teams\")\n",
    "sns.despine(left=True, bottom=True)\n",
    "\n",
    "count = -1\n",
    "converted = df_pivoted['Total'].as_matrix()\n",
    "converted[:,0] = converted[:,0] - converted[:,1]\n",
    "\n",
    "def annotateBars(row, ax=ax): \n",
    "       for counter,p in enumerate(ax.patches):  \n",
    "             ax.annotate(\"%d\" % converted.flatten(1)[counter], ((p.get_x() + p.get_width()-.5), p.get_y()+p.get_height()*.75),\n",
    "                 ha='center', va='center', fontsize=15, color='white', rotation=90, xytext=(0, 20),\n",
    "                 textcoords='offset points')  \n",
    "\n",
    "plot = df_pivoted.apply(annotateBars, ax=ax, axis=0);"
   ]
  },
  {
   "cell_type": "markdown",
   "metadata": {},
   "source": [
    "#### Remark\n",
    "Lead owner \"ER\" appears to be contributing disproportionately to lowering the rate of conversions. The underlying causes should be investigated to determine how to improve the conversion success of \"ER\". It should be noted that \"ER\" also has the highest number of conversion attempts, so efforts to improve their rates would yield substantial increases in overall conversions."
   ]
  }
 ],
 "metadata": {
  "kernelspec": {
   "display_name": "Python 3",
   "language": "python",
   "name": "python3"
  },
  "language_info": {
   "codemirror_mode": {
    "name": "ipython",
    "version": 3
   },
   "file_extension": ".py",
   "mimetype": "text/x-python",
   "name": "python",
   "nbconvert_exporter": "python",
   "pygments_lexer": "ipython3",
   "version": "3.6.3"
  }
 },
 "nbformat": 4,
 "nbformat_minor": 2
}
